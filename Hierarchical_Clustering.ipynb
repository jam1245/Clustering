{
 "cells": [
  {
   "cell_type": "markdown",
   "metadata": {},
   "source": [
    "# Module 3 Hierarchical Clustering"
   ]
  },
  {
   "cell_type": "markdown",
   "metadata": {},
   "source": [
    "We have seen how Kmeans algorithm formed clusters which expects pre determined number of clusters to be formed. In this notebook we will move on to hierarchical clustering which has the benefit that one doesn't need to already know the number of clusters k in data. We will use the same old iris data to illustrate the concept in this notebook."
   ]
  },
  {
   "cell_type": "markdown",
   "metadata": {},
   "source": [
    "Read the iris data from /datasets folder"
   ]
  },
  {
   "cell_type": "code",
   "execution_count": 10,
   "metadata": {
    "collapsed": false
   },
   "outputs": [
    {
     "data": {
      "text/html": [
       "<div>\n",
       "<table border=\"1\" class=\"dataframe\">\n",
       "  <thead>\n",
       "    <tr style=\"text-align: right;\">\n",
       "      <th></th>\n",
       "      <th>Unnamed: 0</th>\n",
       "      <th>Sepal.Length</th>\n",
       "      <th>Sepal.Width</th>\n",
       "      <th>Petal.Length</th>\n",
       "      <th>Petal.Width</th>\n",
       "      <th>Species</th>\n",
       "    </tr>\n",
       "  </thead>\n",
       "  <tbody>\n",
       "    <tr>\n",
       "      <th>0</th>\n",
       "      <td>1</td>\n",
       "      <td>5.1</td>\n",
       "      <td>3.5</td>\n",
       "      <td>1.4</td>\n",
       "      <td>0.2</td>\n",
       "      <td>setosa</td>\n",
       "    </tr>\n",
       "  </tbody>\n",
       "</table>\n",
       "</div>"
      ],
      "text/plain": [
       "   Unnamed: 0  Sepal.Length  Sepal.Width  Petal.Length  Petal.Width Species\n",
       "0           1           5.1          3.5           1.4          0.2  setosa"
      ]
     },
     "execution_count": 10,
     "metadata": {},
     "output_type": "execute_result"
    }
   ],
   "source": [
    "import scipy.cluster.hierarchy as hca\n",
    "import pandas as pd\n",
    "import numpy as np\n",
    "from pylab import *\n",
    "from matplotlib import pyplot\n",
    "%matplotlib inline\n",
    "np.set_printoptions(suppress=True)\n",
    "\n",
    "data=pd.read_csv(\"../../../datasets/iris.txt\")\n",
    "data.head(1)"
   ]
  },
  {
   "cell_type": "markdown",
   "metadata": {},
   "source": [
    "There is an extra column of data. Get rid of it.  "
   ]
  },
  {
   "cell_type": "code",
   "execution_count": 11,
   "metadata": {
    "collapsed": false
   },
   "outputs": [
    {
     "data": {
      "text/html": [
       "<div>\n",
       "<table border=\"1\" class=\"dataframe\">\n",
       "  <thead>\n",
       "    <tr style=\"text-align: right;\">\n",
       "      <th></th>\n",
       "      <th>Sepal.Length</th>\n",
       "      <th>Sepal.Width</th>\n",
       "      <th>Petal.Length</th>\n",
       "      <th>Petal.Width</th>\n",
       "    </tr>\n",
       "  </thead>\n",
       "  <tbody>\n",
       "    <tr>\n",
       "      <th>0</th>\n",
       "      <td>5.1</td>\n",
       "      <td>3.5</td>\n",
       "      <td>1.4</td>\n",
       "      <td>0.2</td>\n",
       "    </tr>\n",
       "    <tr>\n",
       "      <th>1</th>\n",
       "      <td>4.9</td>\n",
       "      <td>3.0</td>\n",
       "      <td>1.4</td>\n",
       "      <td>0.2</td>\n",
       "    </tr>\n",
       "    <tr>\n",
       "      <th>2</th>\n",
       "      <td>4.7</td>\n",
       "      <td>3.2</td>\n",
       "      <td>1.3</td>\n",
       "      <td>0.2</td>\n",
       "    </tr>\n",
       "    <tr>\n",
       "      <th>3</th>\n",
       "      <td>4.6</td>\n",
       "      <td>3.1</td>\n",
       "      <td>1.5</td>\n",
       "      <td>0.2</td>\n",
       "    </tr>\n",
       "    <tr>\n",
       "      <th>4</th>\n",
       "      <td>5.0</td>\n",
       "      <td>3.6</td>\n",
       "      <td>1.4</td>\n",
       "      <td>0.2</td>\n",
       "    </tr>\n",
       "  </tbody>\n",
       "</table>\n",
       "</div>"
      ],
      "text/plain": [
       "   Sepal.Length  Sepal.Width  Petal.Length  Petal.Width\n",
       "0           5.1          3.5           1.4          0.2\n",
       "1           4.9          3.0           1.4          0.2\n",
       "2           4.7          3.2           1.3          0.2\n",
       "3           4.6          3.1           1.5          0.2\n",
       "4           5.0          3.6           1.4          0.2"
      ]
     },
     "execution_count": 11,
     "metadata": {},
     "output_type": "execute_result"
    }
   ],
   "source": [
    "data = data.drop(['Unnamed: 0'], axis=1) # dropping the unnamed column \n",
    "num_data = data.iloc[:,:-1] # dropping the species column \n",
    "num_data.head()"
   ]
  },
  {
   "cell_type": "code",
   "execution_count": 12,
   "metadata": {
    "collapsed": false,
    "scrolled": true
   },
   "outputs": [
    {
     "data": {
      "image/png": "[encoded data removed]",
      "text/plain": [
       "<matplotlib.figure.Figure at 0x7f77a2f2f898>"
      ]
     },
     "metadata": {},
     "output_type": "display_data"
    }
   ],
   "source": [
    "plt.scatter(num_data.iloc[:,0], num_data.iloc[:,1])\n",
    "plt.show()"
   ]
  },
  {
   "cell_type": "code",
   "execution_count": 38,
   "metadata": {
    "collapsed": false
   },
   "outputs": [
    {
     "data": {
      "text/html": [
       "<div>\n",
       "<table border=\"1\" class=\"dataframe\">\n",
       "  <thead>\n",
       "    <tr style=\"text-align: right;\">\n",
       "      <th></th>\n",
       "      <th>Sepal.Length</th>\n",
       "      <th>Sepal.Width</th>\n",
       "      <th>Petal.Length</th>\n",
       "      <th>Petal.Width</th>\n",
       "      <th>Species</th>\n",
       "    </tr>\n",
       "  </thead>\n",
       "  <tbody>\n",
       "    <tr>\n",
       "      <th>0</th>\n",
       "      <td>5.1</td>\n",
       "      <td>3.5</td>\n",
       "      <td>1.4</td>\n",
       "      <td>0.2</td>\n",
       "      <td>setosa</td>\n",
       "    </tr>\n",
       "    <tr>\n",
       "      <th>1</th>\n",
       "      <td>4.9</td>\n",
       "      <td>3.0</td>\n",
       "      <td>1.4</td>\n",
       "      <td>0.2</td>\n",
       "      <td>setosa</td>\n",
       "    </tr>\n",
       "    <tr>\n",
       "      <th>2</th>\n",
       "      <td>4.7</td>\n",
       "      <td>3.2</td>\n",
       "      <td>1.3</td>\n",
       "      <td>0.2</td>\n",
       "      <td>setosa</td>\n",
       "    </tr>\n",
       "    <tr>\n",
       "      <th>3</th>\n",
       "      <td>4.6</td>\n",
       "      <td>3.1</td>\n",
       "      <td>1.5</td>\n",
       "      <td>0.2</td>\n",
       "      <td>setosa</td>\n",
       "    </tr>\n",
       "    <tr>\n",
       "      <th>4</th>\n",
       "      <td>5.0</td>\n",
       "      <td>3.6</td>\n",
       "      <td>1.4</td>\n",
       "      <td>0.2</td>\n",
       "      <td>setosa</td>\n",
       "    </tr>\n",
       "    <tr>\n",
       "      <th>5</th>\n",
       "      <td>5.4</td>\n",
       "      <td>3.9</td>\n",
       "      <td>1.7</td>\n",
       "      <td>0.4</td>\n",
       "      <td>setosa</td>\n",
       "    </tr>\n",
       "    <tr>\n",
       "      <th>6</th>\n",
       "      <td>4.6</td>\n",
       "      <td>3.4</td>\n",
       "      <td>1.4</td>\n",
       "      <td>0.3</td>\n",
       "      <td>setosa</td>\n",
       "    </tr>\n",
       "    <tr>\n",
       "      <th>7</th>\n",
       "      <td>5.0</td>\n",
       "      <td>3.4</td>\n",
       "      <td>1.5</td>\n",
       "      <td>0.2</td>\n",
       "      <td>setosa</td>\n",
       "    </tr>\n",
       "    <tr>\n",
       "      <th>8</th>\n",
       "      <td>4.4</td>\n",
       "      <td>2.9</td>\n",
       "      <td>1.4</td>\n",
       "      <td>0.2</td>\n",
       "      <td>setosa</td>\n",
       "    </tr>\n",
       "    <tr>\n",
       "      <th>9</th>\n",
       "      <td>4.9</td>\n",
       "      <td>3.1</td>\n",
       "      <td>1.5</td>\n",
       "      <td>0.1</td>\n",
       "      <td>setosa</td>\n",
       "    </tr>\n",
       "    <tr>\n",
       "      <th>10</th>\n",
       "      <td>5.4</td>\n",
       "      <td>3.7</td>\n",
       "      <td>1.5</td>\n",
       "      <td>0.2</td>\n",
       "      <td>setosa</td>\n",
       "    </tr>\n",
       "    <tr>\n",
       "      <th>11</th>\n",
       "      <td>4.8</td>\n",
       "      <td>3.4</td>\n",
       "      <td>1.6</td>\n",
       "      <td>0.2</td>\n",
       "      <td>setosa</td>\n",
       "    </tr>\n",
       "    <tr>\n",
       "      <th>12</th>\n",
       "      <td>4.8</td>\n",
       "      <td>3.0</td>\n",
       "      <td>1.4</td>\n",
       "      <td>0.1</td>\n",
       "      <td>setosa</td>\n",
       "    </tr>\n",
       "    <tr>\n",
       "      <th>13</th>\n",
       "      <td>4.3</td>\n",
       "      <td>3.0</td>\n",
       "      <td>1.1</td>\n",
       "      <td>0.1</td>\n",
       "      <td>setosa</td>\n",
       "    </tr>\n",
       "    <tr>\n",
       "      <th>14</th>\n",
       "      <td>5.8</td>\n",
       "      <td>4.0</td>\n",
       "      <td>1.2</td>\n",
       "      <td>0.2</td>\n",
       "      <td>setosa</td>\n",
       "    </tr>\n",
       "    <tr>\n",
       "      <th>15</th>\n",
       "      <td>5.7</td>\n",
       "      <td>4.4</td>\n",
       "      <td>1.5</td>\n",
       "      <td>0.4</td>\n",
       "      <td>setosa</td>\n",
       "    </tr>\n",
       "    <tr>\n",
       "      <th>16</th>\n",
       "      <td>5.4</td>\n",
       "      <td>3.9</td>\n",
       "      <td>1.3</td>\n",
       "      <td>0.4</td>\n",
       "      <td>setosa</td>\n",
       "    </tr>\n",
       "    <tr>\n",
       "      <th>17</th>\n",
       "      <td>5.1</td>\n",
       "      <td>3.5</td>\n",
       "      <td>1.4</td>\n",
       "      <td>0.3</td>\n",
       "      <td>setosa</td>\n",
       "    </tr>\n",
       "    <tr>\n",
       "      <th>18</th>\n",
       "      <td>5.7</td>\n",
       "      <td>3.8</td>\n",
       "      <td>1.7</td>\n",
       "      <td>0.3</td>\n",
       "      <td>setosa</td>\n",
       "    </tr>\n",
       "    <tr>\n",
       "      <th>19</th>\n",
       "      <td>5.1</td>\n",
       "      <td>3.8</td>\n",
       "      <td>1.5</td>\n",
       "      <td>0.3</td>\n",
       "      <td>setosa</td>\n",
       "    </tr>\n",
       "    <tr>\n",
       "      <th>20</th>\n",
       "      <td>5.4</td>\n",
       "      <td>3.4</td>\n",
       "      <td>1.7</td>\n",
       "      <td>0.2</td>\n",
       "      <td>setosa</td>\n",
       "    </tr>\n",
       "    <tr>\n",
       "      <th>21</th>\n",
       "      <td>5.1</td>\n",
       "      <td>3.7</td>\n",
       "      <td>1.5</td>\n",
       "      <td>0.4</td>\n",
       "      <td>setosa</td>\n",
       "    </tr>\n",
       "    <tr>\n",
       "      <th>22</th>\n",
       "      <td>4.6</td>\n",
       "      <td>3.6</td>\n",
       "      <td>1.0</td>\n",
       "      <td>0.2</td>\n",
       "      <td>setosa</td>\n",
       "    </tr>\n",
       "    <tr>\n",
       "      <th>23</th>\n",
       "      <td>5.1</td>\n",
       "      <td>3.3</td>\n",
       "      <td>1.7</td>\n",
       "      <td>0.5</td>\n",
       "      <td>setosa</td>\n",
       "    </tr>\n",
       "    <tr>\n",
       "      <th>24</th>\n",
       "      <td>4.8</td>\n",
       "      <td>3.4</td>\n",
       "      <td>1.9</td>\n",
       "      <td>0.2</td>\n",
       "      <td>setosa</td>\n",
       "    </tr>\n",
       "    <tr>\n",
       "      <th>25</th>\n",
       "      <td>5.0</td>\n",
       "      <td>3.0</td>\n",
       "      <td>1.6</td>\n",
       "      <td>0.2</td>\n",
       "      <td>setosa</td>\n",
       "    </tr>\n",
       "    <tr>\n",
       "      <th>26</th>\n",
       "      <td>5.0</td>\n",
       "      <td>3.4</td>\n",
       "      <td>1.6</td>\n",
       "      <td>0.4</td>\n",
       "      <td>setosa</td>\n",
       "    </tr>\n",
       "    <tr>\n",
       "      <th>27</th>\n",
       "      <td>5.2</td>\n",
       "      <td>3.5</td>\n",
       "      <td>1.5</td>\n",
       "      <td>0.2</td>\n",
       "      <td>setosa</td>\n",
       "    </tr>\n",
       "    <tr>\n",
       "      <th>28</th>\n",
       "      <td>5.2</td>\n",
       "      <td>3.4</td>\n",
       "      <td>1.4</td>\n",
       "      <td>0.2</td>\n",
       "      <td>setosa</td>\n",
       "    </tr>\n",
       "    <tr>\n",
       "      <th>29</th>\n",
       "      <td>4.7</td>\n",
       "      <td>3.2</td>\n",
       "      <td>1.6</td>\n",
       "      <td>0.2</td>\n",
       "      <td>setosa</td>\n",
       "    </tr>\n",
       "    <tr>\n",
       "      <th>...</th>\n",
       "      <td>...</td>\n",
       "      <td>...</td>\n",
       "      <td>...</td>\n",
       "      <td>...</td>\n",
       "      <td>...</td>\n",
       "    </tr>\n",
       "    <tr>\n",
       "      <th>120</th>\n",
       "      <td>6.9</td>\n",
       "      <td>3.2</td>\n",
       "      <td>5.7</td>\n",
       "      <td>2.3</td>\n",
       "      <td>virginica</td>\n",
       "    </tr>\n",
       "    <tr>\n",
       "      <th>121</th>\n",
       "      <td>5.6</td>\n",
       "      <td>2.8</td>\n",
       "      <td>4.9</td>\n",
       "      <td>2.0</td>\n",
       "      <td>virginica</td>\n",
       "    </tr>\n",
       "    <tr>\n",
       "      <th>122</th>\n",
       "      <td>7.7</td>\n",
       "      <td>2.8</td>\n",
       "      <td>6.7</td>\n",
       "      <td>2.0</td>\n",
       "      <td>virginica</td>\n",
       "    </tr>\n",
       "    <tr>\n",
       "      <th>123</th>\n",
       "      <td>6.3</td>\n",
       "      <td>2.7</td>\n",
       "      <td>4.9</td>\n",
       "      <td>1.8</td>\n",
       "      <td>virginica</td>\n",
       "    </tr>\n",
       "    <tr>\n",
       "      <th>124</th>\n",
       "      <td>6.7</td>\n",
       "      <td>3.3</td>\n",
       "      <td>5.7</td>\n",
       "      <td>2.1</td>\n",
       "      <td>virginica</td>\n",
       "    </tr>\n",
       "    <tr>\n",
       "      <th>125</th>\n",
       "      <td>7.2</td>\n",
       "      <td>3.2</td>\n",
       "      <td>6.0</td>\n",
       "      <td>1.8</td>\n",
       "      <td>virginica</td>\n",
       "    </tr>\n",
       "    <tr>\n",
       "      <th>126</th>\n",
       "      <td>6.2</td>\n",
       "      <td>2.8</td>\n",
       "      <td>4.8</td>\n",
       "      <td>1.8</td>\n",
       "      <td>virginica</td>\n",
       "    </tr>\n",
       "    <tr>\n",
       "      <th>127</th>\n",
       "      <td>6.1</td>\n",
       "      <td>3.0</td>\n",
       "      <td>4.9</td>\n",
       "      <td>1.8</td>\n",
       "      <td>virginica</td>\n",
       "    </tr>\n",
       "    <tr>\n",
       "      <th>128</th>\n",
       "      <td>6.4</td>\n",
       "      <td>2.8</td>\n",
       "      <td>5.6</td>\n",
       "      <td>2.1</td>\n",
       "      <td>virginica</td>\n",
       "    </tr>\n",
       "    <tr>\n",
       "      <th>129</th>\n",
       "      <td>7.2</td>\n",
       "      <td>3.0</td>\n",
       "      <td>5.8</td>\n",
       "      <td>1.6</td>\n",
       "      <td>virginica</td>\n",
       "    </tr>\n",
       "    <tr>\n",
       "      <th>130</th>\n",
       "      <td>7.4</td>\n",
       "      <td>2.8</td>\n",
       "      <td>6.1</td>\n",
       "      <td>1.9</td>\n",
       "      <td>virginica</td>\n",
       "    </tr>\n",
       "    <tr>\n",
       "      <th>131</th>\n",
       "      <td>7.9</td>\n",
       "      <td>3.8</td>\n",
       "      <td>6.4</td>\n",
       "      <td>2.0</td>\n",
       "      <td>virginica</td>\n",
       "    </tr>\n",
       "    <tr>\n",
       "      <th>132</th>\n",
       "      <td>6.4</td>\n",
       "      <td>2.8</td>\n",
       "      <td>5.6</td>\n",
       "      <td>2.2</td>\n",
       "      <td>virginica</td>\n",
       "    </tr>\n",
       "    <tr>\n",
       "      <th>133</th>\n",
       "      <td>6.3</td>\n",
       "      <td>2.8</td>\n",
       "      <td>5.1</td>\n",
       "      <td>1.5</td>\n",
       "      <td>virginica</td>\n",
       "    </tr>\n",
       "    <tr>\n",
       "      <th>134</th>\n",
       "      <td>6.1</td>\n",
       "      <td>2.6</td>\n",
       "      <td>5.6</td>\n",
       "      <td>1.4</td>\n",
       "      <td>virginica</td>\n",
       "    </tr>\n",
       "    <tr>\n",
       "      <th>135</th>\n",
       "      <td>7.7</td>\n",
       "      <td>3.0</td>\n",
       "      <td>6.1</td>\n",
       "      <td>2.3</td>\n",
       "      <td>virginica</td>\n",
       "    </tr>\n",
       "    <tr>\n",
       "      <th>136</th>\n",
       "      <td>6.3</td>\n",
       "      <td>3.4</td>\n",
       "      <td>5.6</td>\n",
       "      <td>2.4</td>\n",
       "      <td>virginica</td>\n",
       "    </tr>\n",
       "    <tr>\n",
       "      <th>137</th>\n",
       "      <td>6.4</td>\n",
       "      <td>3.1</td>\n",
       "      <td>5.5</td>\n",
       "      <td>1.8</td>\n",
       "      <td>virginica</td>\n",
       "    </tr>\n",
       "    <tr>\n",
       "      <th>138</th>\n",
       "      <td>6.0</td>\n",
       "      <td>3.0</td>\n",
       "      <td>4.8</td>\n",
       "      <td>1.8</td>\n",
       "      <td>virginica</td>\n",
       "    </tr>\n",
       "    <tr>\n",
       "      <th>139</th>\n",
       "      <td>6.9</td>\n",
       "      <td>3.1</td>\n",
       "      <td>5.4</td>\n",
       "      <td>2.1</td>\n",
       "      <td>virginica</td>\n",
       "    </tr>\n",
       "    <tr>\n",
       "      <th>140</th>\n",
       "      <td>6.7</td>\n",
       "      <td>3.1</td>\n",
       "      <td>5.6</td>\n",
       "      <td>2.4</td>\n",
       "      <td>virginica</td>\n",
       "    </tr>\n",
       "    <tr>\n",
       "      <th>141</th>\n",
       "      <td>6.9</td>\n",
       "      <td>3.1</td>\n",
       "      <td>5.1</td>\n",
       "      <td>2.3</td>\n",
       "      <td>virginica</td>\n",
       "    </tr>\n",
       "    <tr>\n",
       "      <th>142</th>\n",
       "      <td>5.8</td>\n",
       "      <td>2.7</td>\n",
       "      <td>5.1</td>\n",
       "      <td>1.9</td>\n",
       "      <td>virginica</td>\n",
       "    </tr>\n",
       "    <tr>\n",
       "      <th>143</th>\n",
       "      <td>6.8</td>\n",
       "      <td>3.2</td>\n",
       "      <td>5.9</td>\n",
       "      <td>2.3</td>\n",
       "      <td>virginica</td>\n",
       "    </tr>\n",
       "    <tr>\n",
       "      <th>144</th>\n",
       "      <td>6.7</td>\n",
       "      <td>3.3</td>\n",
       "      <td>5.7</td>\n",
       "      <td>2.5</td>\n",
       "      <td>virginica</td>\n",
       "    </tr>\n",
       "    <tr>\n",
       "      <th>145</th>\n",
       "      <td>6.7</td>\n",
       "      <td>3.0</td>\n",
       "      <td>5.2</td>\n",
       "      <td>2.3</td>\n",
       "      <td>virginica</td>\n",
       "    </tr>\n",
       "    <tr>\n",
       "      <th>146</th>\n",
       "      <td>6.3</td>\n",
       "      <td>2.5</td>\n",
       "      <td>5.0</td>\n",
       "      <td>1.9</td>\n",
       "      <td>virginica</td>\n",
       "    </tr>\n",
       "    <tr>\n",
       "      <th>147</th>\n",
       "      <td>6.5</td>\n",
       "      <td>3.0</td>\n",
       "      <td>5.2</td>\n",
       "      <td>2.0</td>\n",
       "      <td>virginica</td>\n",
       "    </tr>\n",
       "    <tr>\n",
       "      <th>148</th>\n",
       "      <td>6.2</td>\n",
       "      <td>3.4</td>\n",
       "      <td>5.4</td>\n",
       "      <td>2.3</td>\n",
       "      <td>virginica</td>\n",
       "    </tr>\n",
       "    <tr>\n",
       "      <th>149</th>\n",
       "      <td>5.9</td>\n",
       "      <td>3.0</td>\n",
       "      <td>5.1</td>\n",
       "      <td>1.8</td>\n",
       "      <td>virginica</td>\n",
       "    </tr>\n",
       "  </tbody>\n",
       "</table>\n",
       "<p>150 rows × 5 columns</p>\n",
       "</div>"
      ],
      "text/plain": [
       "     Sepal.Length  Sepal.Width  Petal.Length  Petal.Width    Species\n",
       "0             5.1          3.5           1.4          0.2     setosa\n",
       "1             4.9          3.0           1.4          0.2     setosa\n",
       "2             4.7          3.2           1.3          0.2     setosa\n",
       "3             4.6          3.1           1.5          0.2     setosa\n",
       "4             5.0          3.6           1.4          0.2     setosa\n",
       "5             5.4          3.9           1.7          0.4     setosa\n",
       "6             4.6          3.4           1.4          0.3     setosa\n",
       "7             5.0          3.4           1.5          0.2     setosa\n",
       "8             4.4          2.9           1.4          0.2     setosa\n",
       "9             4.9          3.1           1.5          0.1     setosa\n",
       "10            5.4          3.7           1.5          0.2     setosa\n",
       "11            4.8          3.4           1.6          0.2     setosa\n",
       "12            4.8          3.0           1.4          0.1     setosa\n",
       "13            4.3          3.0           1.1          0.1     setosa\n",
       "14            5.8          4.0           1.2          0.2     setosa\n",
       "15            5.7          4.4           1.5          0.4     setosa\n",
       "16            5.4          3.9           1.3          0.4     setosa\n",
       "17            5.1          3.5           1.4          0.3     setosa\n",
       "18            5.7          3.8           1.7          0.3     setosa\n",
       "19            5.1          3.8           1.5          0.3     setosa\n",
       "20            5.4          3.4           1.7          0.2     setosa\n",
       "21            5.1          3.7           1.5          0.4     setosa\n",
       "22            4.6          3.6           1.0          0.2     setosa\n",
       "23            5.1          3.3           1.7          0.5     setosa\n",
       "24            4.8          3.4           1.9          0.2     setosa\n",
       "25            5.0          3.0           1.6          0.2     setosa\n",
       "26            5.0          3.4           1.6          0.4     setosa\n",
       "27            5.2          3.5           1.5          0.2     setosa\n",
       "28            5.2          3.4           1.4          0.2     setosa\n",
       "29            4.7          3.2           1.6          0.2     setosa\n",
       "..            ...          ...           ...          ...        ...\n",
       "120           6.9          3.2           5.7          2.3  virginica\n",
       "121           5.6          2.8           4.9          2.0  virginica\n",
       "122           7.7          2.8           6.7          2.0  virginica\n",
       "123           6.3          2.7           4.9          1.8  virginica\n",
       "124           6.7          3.3           5.7          2.1  virginica\n",
       "125           7.2          3.2           6.0          1.8  virginica\n",
       "126           6.2          2.8           4.8          1.8  virginica\n",
       "127           6.1          3.0           4.9          1.8  virginica\n",
       "128           6.4          2.8           5.6          2.1  virginica\n",
       "129           7.2          3.0           5.8          1.6  virginica\n",
       "130           7.4          2.8           6.1          1.9  virginica\n",
       "131           7.9          3.8           6.4          2.0  virginica\n",
       "132           6.4          2.8           5.6          2.2  virginica\n",
       "133           6.3          2.8           5.1          1.5  virginica\n",
       "134           6.1          2.6           5.6          1.4  virginica\n",
       "135           7.7          3.0           6.1          2.3  virginica\n",
       "136           6.3          3.4           5.6          2.4  virginica\n",
       "137           6.4          3.1           5.5          1.8  virginica\n",
       "138           6.0          3.0           4.8          1.8  virginica\n",
       "139           6.9          3.1           5.4          2.1  virginica\n",
       "140           6.7          3.1           5.6          2.4  virginica\n",
       "141           6.9          3.1           5.1          2.3  virginica\n",
       "142           5.8          2.7           5.1          1.9  virginica\n",
       "143           6.8          3.2           5.9          2.3  virginica\n",
       "144           6.7          3.3           5.7          2.5  virginica\n",
       "145           6.7          3.0           5.2          2.3  virginica\n",
       "146           6.3          2.5           5.0          1.9  virginica\n",
       "147           6.5          3.0           5.2          2.0  virginica\n",
       "148           6.2          3.4           5.4          2.3  virginica\n",
       "149           5.9          3.0           5.1          1.8  virginica\n",
       "\n",
       "[150 rows x 5 columns]"
      ]
     },
     "execution_count": 38,
     "metadata": {},
     "output_type": "execute_result"
    }
   ],
   "source": [
    "data.iloc[:,:]"
   ]
  },
  {
   "cell_type": "code",
   "execution_count": 14,
   "metadata": {
    "collapsed": false,
    "scrolled": true
   },
   "outputs": [
    {
     "data": {
      "text/plain": [
       "array([[ 101.        ,  142.        ,    0.        ,    2.        ],\n",
       "       [   7.        ,   39.        ,    0.1       ,    2.        ],\n",
       "       [   0.        ,   17.        ,    0.1       ,    2.        ],\n",
       "       [   9.        ,   34.        ,    0.1       ,    2.        ],\n",
       "       [ 128.        ,  132.        ,    0.1       ,    2.        ],\n",
       "       [  10.        ,   48.        ,    0.1       ,    2.        ],\n",
       "       [   4.        ,   37.        ,    0.14142136,    2.        ],\n",
       "       [  19.        ,   21.        ,    0.14142136,    2.        ],\n",
       "       [  29.        ,   30.        ,    0.14142136,    2.        ],\n",
       "       [  57.        ,   93.        ,    0.14142136,    2.        ],\n",
       "       [  80.        ,   81.        ,    0.14142136,    2.        ],\n",
       "       [ 116.        ,  137.        ,    0.14142136,    2.        ],\n",
       "       [   8.        ,   38.        ,    0.14142136,    2.        ],\n",
       "       [  27.        ,   28.        ,    0.14142136,    2.        ],\n",
       "       [   3.        ,   47.        ,    0.14142136,    2.        ],\n",
       "       [  82.        ,   92.        ,    0.14142136,    2.        ],\n",
       "       [  95.        ,   96.        ,    0.14142136,    2.        ],\n",
       "       [ 127.        ,  138.        ,    0.14142136,    2.        ],\n",
       "       [   1.        ,   45.        ,    0.14142136,    2.        ],\n",
       "       [  63.        ,   91.        ,    0.14142136,    2.        ],\n",
       "       [  65.        ,   75.        ,    0.14142136,    2.        ],\n",
       "       [  40.        ,  152.        ,    0.17320508,    3.        ],\n",
       "       [ 123.        ,  126.        ,    0.17320508,    2.        ],\n",
       "       [  49.        ,  151.        ,    0.17320508,    3.        ],\n",
       "       [ 112.        ,  139.        ,    0.17320508,    2.        ],\n",
       "       [  94.        ,   99.        ,    0.17320508,    2.        ],\n",
       "       [  12.        ,  168.        ,    0.18257419,    3.        ],\n",
       "       [  88.        ,  166.        ,    0.18257419,    3.        ],\n",
       "       [  66.        ,   84.        ,    0.2       ,    2.        ],\n",
       "       [  23.        ,   26.        ,    0.2       ,    2.        ],\n",
       "       [  53.        ,   89.        ,    0.2       ,    2.        ],\n",
       "       [  74.        ,   97.        ,    0.2       ,    2.        ],\n",
       "       [  25.        ,  153.        ,    0.2081666 ,    3.        ],\n",
       "       [  46.        ,  157.        ,    0.21602469,    3.        ],\n",
       "       [   2.        ,  164.        ,    0.21602469,    3.        ],\n",
       "       [ 110.        ,  147.        ,    0.2236068 ,    2.        ],\n",
       "       [ 120.        ,  143.        ,    0.2236068 ,    2.        ],\n",
       "       [ 136.        ,  148.        ,    0.24494897,    2.        ],\n",
       "       [  78.        ,  169.        ,    0.24494897,    3.        ],\n",
       "       [  69.        ,  160.        ,    0.24494897,    3.        ],\n",
       "       [  54.        ,   58.        ,    0.24494897,    2.        ],\n",
       "       [ 140.        ,  144.        ,    0.24494897,    2.        ],\n",
       "       [ 141.        ,  145.        ,    0.24494897,    2.        ],\n",
       "       [  43.        ,  179.        ,    0.25819889,    3.        ],\n",
       "       [  68.        ,   87.        ,    0.26457513,    2.        ],\n",
       "       [  50.        ,   52.        ,    0.26457513,    2.        ],\n",
       "       [  51.        ,   56.        ,    0.26457513,    2.        ],\n",
       "       [ 107.        ,  130.        ,    0.26457513,    2.        ],\n",
       "       [ 105.        ,  122.        ,    0.26457513,    2.        ],\n",
       "       [ 103.        ,  161.        ,    0.27080128,    3.        ],\n",
       "       [ 163.        ,  171.        ,    0.27568098,    5.        ],\n",
       "       [  20.        ,   31.        ,    0.28284271,    2.        ],\n",
       "       [  11.        ,  158.        ,    0.29439203,    3.        ],\n",
       "       [  67.        ,  165.        ,    0.29439203,    3.        ],\n",
       "       [  70.        ,  167.        ,    0.29439203,    3.        ],\n",
       "       [  42.        ,  162.        ,    0.29439203,    3.        ],\n",
       "       [ 113.        ,  150.        ,    0.30550505,    3.        ],\n",
       "       [   6.        ,  184.        ,    0.31358146,    4.        ],\n",
       "       [ 173.        ,  200.        ,    0.31464265,    8.        ],\n",
       "       [  55.        ,   90.        ,    0.31622777,    2.        ],\n",
       "       [ 176.        ,  182.        ,    0.31622777,    6.        ],\n",
       "       [  86.        ,  195.        ,    0.32145503,    3.        ],\n",
       "       [ 124.        ,  186.        ,    0.33166248,    3.        ],\n",
       "       [  83.        ,  133.        ,    0.33166248,    2.        ],\n",
       "       [   5.        ,   18.        ,    0.33166248,    2.        ],\n",
       "       [  13.        ,  205.        ,    0.33665016,    4.        ],\n",
       "       [ 175.        ,  177.        ,    0.34156503,    5.        ],\n",
       "       [  32.        ,   33.        ,    0.34641016,    2.        ],\n",
       "       [ 125.        ,  129.        ,    0.34641016,    2.        ],\n",
       "       [ 104.        ,  154.        ,    0.35118846,    3.        ],\n",
       "       [  73.        ,  188.        ,    0.35355339,    4.        ],\n",
       "       [ 149.        ,  204.        ,    0.35823642,    4.        ],\n",
       "       [ 146.        ,  172.        ,    0.36055513,    3.        ],\n",
       "       [ 121.        ,  206.        ,    0.36285902,    4.        ],\n",
       "       [  36.        ,  155.        ,    0.36968455,    3.        ],\n",
       "       [  76.        ,  190.        ,    0.37416574,    3.        ],\n",
       "       [ 115.        ,  187.        ,    0.37416574,    3.        ],\n",
       "       [  61.        ,   71.        ,    0.4       ,    2.        ],\n",
       "       [ 156.        ,  208.        ,    0.40620192,   10.        ],\n",
       "       [  72.        ,  213.        ,    0.41231056,    3.        ],\n",
       "       [ 117.        ,  131.        ,    0.41231056,    2.        ],\n",
       "       [ 191.        ,  212.        ,    0.41472883,    5.        ],\n",
       "       [  24.        ,  202.        ,    0.42229532,    4.        ],\n",
       "       [  98.        ,  159.        ,    0.43969687,    3.        ],\n",
       "       [  16.        ,  224.        ,    0.43969687,    4.        ],\n",
       "       [  35.        ,  210.        ,    0.43969687,    7.        ],\n",
       "       [  64.        ,   79.        ,    0.4472136 ,    2.        ],\n",
       "       [  85.        ,  196.        ,    0.45825757,    3.        ],\n",
       "       [  77.        ,  185.        ,    0.46547467,    3.        ],\n",
       "       [  44.        ,  183.        ,    0.46726153,    4.        ],\n",
       "       [ 111.        ,  199.        ,    0.48131764,    4.        ],\n",
       "       [ 180.        ,  189.        ,    0.48166378,    5.        ],\n",
       "       [ 102.        ,  218.        ,    0.48989795,    3.        ],\n",
       "       [ 174.        ,  192.        ,    0.51478151,    4.        ],\n",
       "       [ 181.        ,  227.        ,    0.52915026,    4.        ],\n",
       "       [ 170.        ,  225.        ,    0.5329165 ,    5.        ],\n",
       "       [ 118.        ,  198.        ,    0.53851648,    3.        ],\n",
       "       [  14.        ,   15.        ,    0.54772256,    2.        ],\n",
       "       [ 178.        ,  209.        ,    0.57445626,    4.        ],\n",
       "       [ 222.        ,  229.        ,    0.58022984,    6.        ],\n",
       "       [ 201.        ,  234.        ,    0.59441848,    6.        ],\n",
       "       [ 114.        ,  223.        ,    0.60580525,    5.        ],\n",
       "       [  60.        ,  233.        ,    0.61373175,    4.        ],\n",
       "       [ 217.        ,  247.        ,    0.6244998 ,    4.        ],\n",
       "       [  59.        ,  241.        ,    0.63087241,    6.        ],\n",
       "       [ 207.        ,  232.        ,    0.6363961 ,    8.        ],\n",
       "       [ 197.        ,  242.        ,    0.64031242,    5.        ],\n",
       "       [  62.        ,  203.        ,    0.64291005,    4.        ],\n",
       "       [ 214.        ,  250.        ,    0.66269651,    8.        ],\n",
       "       [ 119.        ,  194.        ,    0.70945989,    3.        ],\n",
       "       [ 100.        ,  226.        ,    0.72456884,    4.        ],\n",
       "       [ 108.        ,  219.        ,    0.73257537,    4.        ],\n",
       "       [ 216.        ,  248.        ,    0.73409052,    9.        ],\n",
       "       [ 211.        ,  245.        ,    0.73496032,    8.        ],\n",
       "       [ 240.        ,  261.        ,    0.76321688,    8.        ],\n",
       "       [ 193.        ,  239.        ,    0.77628542,    7.        ],\n",
       "       [ 109.        ,  135.        ,    0.80622577,    2.        ],\n",
       "       [ 235.        ,  255.        ,    0.81873887,   15.        ],\n",
       "       [ 238.        ,  243.        ,    0.82187359,    7.        ],\n",
       "       [ 236.        ,  254.        ,    0.82613558,    8.        ],\n",
       "       [  22.        ,  215.        ,    0.85556999,    5.        ],\n",
       "       [ 220.        ,  244.        ,    0.86458082,    8.        ],\n",
       "       [ 228.        ,  265.        ,    0.90998199,   17.        ],\n",
       "       [ 257.        ,  269.        ,    0.92870878,   12.        ],\n",
       "       [ 134.        ,  249.        ,    0.92915732,    7.        ],\n",
       "       [ 221.        ,  237.        ,    1.00534287,    7.        ],\n",
       "       [ 231.        ,  260.        ,    1.04705937,    9.        ],\n",
       "       [  41.        ,  270.        ,    1.10513951,    6.        ],\n",
       "       [ 230.        ,  266.        ,    1.15325626,    4.        ],\n",
       "       [ 106.        ,  262.        ,    1.21700908,   10.        ],\n",
       "       [ 253.        ,  258.        ,    1.25399362,   12.        ],\n",
       "       [ 259.        ,  274.        ,    1.3048627 ,   10.        ],\n",
       "       [ 267.        ,  277.        ,    1.37126983,   21.        ],\n",
       "       [ 264.        ,  268.        ,    1.41139074,   15.        ],\n",
       "       [ 271.        ,  275.        ,    1.49547731,   15.        ],\n",
       "       [ 246.        ,  278.        ,    1.5977663 ,    7.        ],\n",
       "       [ 251.        ,  281.        ,    1.75916647,   15.        ],\n",
       "       [ 276.        ,  283.        ,    1.76044502,   24.        ],\n",
       "       [ 256.        ,  285.        ,    1.84584475,   12.        ],\n",
       "       [ 273.        ,  279.        ,    1.91608028,   22.        ],\n",
       "       [ 272.        ,  280.        ,    1.91875287,   29.        ],\n",
       "       [ 263.        ,  284.        ,    2.05363058,   23.        ],\n",
       "       [ 252.        ,  289.        ,    2.81393883,   26.        ],\n",
       "       [ 286.        ,  291.        ,    2.86941764,   38.        ],\n",
       "       [ 282.        ,  290.        ,    3.82805262,   50.        ],\n",
       "       [ 287.        ,  288.        ,    4.84770851,   36.        ],\n",
       "       [ 292.        ,  293.        ,    6.39940682,   64.        ],\n",
       "       [ 295.        ,  296.        ,   12.30039605,  100.        ],\n",
       "       [ 294.        ,  297.        ,   32.447607  ,  150.        ]])"
      ]
     },
     "execution_count": 14,
     "metadata": {},
     "output_type": "execute_result"
    }
   ],
   "source": [
    "# generate the linkage matrix\n",
    "Z = hca.linkage(data.iloc[:,:-1], 'ward')\n",
    "Z"
   ]
  },
  {
   "cell_type": "markdown",
   "metadata": {},
   "source": [
    "**`ward`** is one of the methods that can be used to calculate the distance between newly formed clusters. 'ward' causes linkage() to use the Ward variance minimization algorithm.\n",
    "\n",
    "There are some other common linkage methods like 'single', 'complete', 'average' along with different distance metrics like 'euclidean' (default), 'Manhattan', 'hamming', 'cosine'. You can try different distance measures clustering methods to make sure that the data is not just be clustered to minimize the overall intra cluster variance in euclidean space. For example, when dealing with clustering text documents, it may not look right to use euclidean distance metric with long (binary) feature vectors (word-vectors in text clustering).\n",
    "\n",
    "Explore the linked methods and metrics to make a informed choice between different options available. \n",
    "\n",
    "**`Cophenetic Correlation Coefficient`:** Check the Cophenetic Correlation Coefficient of the clustering generated using cophenet() function. This compares (correlates) the actual pairwise distances of all data samples to those implied by the hierarchical clustering. The closer the value is to 1, the better the clustering preserves the original distances."
   ]
  },
  {
   "cell_type": "code",
   "execution_count": 15,
   "metadata": {
    "collapsed": false
   },
   "outputs": [
    {
     "data": {
      "text/plain": [
       "0.87282831533057148"
      ]
     },
     "execution_count": 15,
     "metadata": {},
     "output_type": "execute_result"
    }
   ],
   "source": [
    "from scipy.cluster.hierarchy import cophenet\n",
    "from scipy.spatial.distance import pdist\n",
    "\n",
    "c, cop_dist = cophenet(Z, pdist(num_data))\n",
    "c"
   ]
  },
  {
   "cell_type": "markdown",
   "metadata": {},
   "source": [
    "The linkage() function will use the supplied method and metric to calculate the distances of the clusters starting with all the **`n`** individual data points as singleton clusters and in each iteration will merge the two clusters which have the smallest distance according the selected method and metric. \n",
    "\n",
    "It will return an array of length n - 1 giving the information about the n - 1 cluster merges which it did to pairwise merge the n singleton clusters. Z[i] will tell which clusters were merged in the i-th iteration as shown below."
   ]
  },
  {
   "cell_type": "code",
   "execution_count": 16,
   "metadata": {
    "collapsed": false
   },
   "outputs": [
    {
     "data": {
      "text/plain": [
       "array([ 101.,  142.,    0.,    2.])"
      ]
     },
     "execution_count": 16,
     "metadata": {},
     "output_type": "execute_result"
    }
   ],
   "source": [
    "Z[0]"
   ]
  },
  {
   "cell_type": "markdown",
   "metadata": {},
   "source": [
    "So each row of the resulting array has the format [idx1, idx2, dist, sample_count]. Rows 101 and 142 in the dataset are clustered together to form first cluster. These two samples have 0 distance and created a cluster with a total of 2 samples."
   ]
  },
  {
   "cell_type": "code",
   "execution_count": 17,
   "metadata": {
    "collapsed": false
   },
   "outputs": [
    {
     "data": {
      "text/plain": [
       "array([  7. ,  39. ,   0.1,   2. ])"
      ]
     },
     "execution_count": 17,
     "metadata": {},
     "output_type": "execute_result"
    }
   ],
   "source": [
    "Z[1]"
   ]
  },
  {
   "cell_type": "code",
   "execution_count": 18,
   "metadata": {
    "collapsed": false
   },
   "outputs": [
    {
     "data": {
      "text/plain": [
       "array([  0. ,  17. ,   0.1,   2. ])"
      ]
     },
     "execution_count": 18,
     "metadata": {},
     "output_type": "execute_result"
    }
   ],
   "source": [
    "Z[2]"
   ]
  },
  {
   "cell_type": "markdown",
   "metadata": {},
   "source": [
    "In second iteration, rows 7 and 39 in the dataset are clustered together to form a cluster. These two samples have a distance of 0.1. Have a look at the first 20 iterations."
   ]
  },
  {
   "cell_type": "code",
   "execution_count": 19,
   "metadata": {
    "collapsed": false,
    "scrolled": true
   },
   "outputs": [
    {
     "data": {
      "text/plain": [
       "array([[ 101.        ,  142.        ,    0.        ,    2.        ],\n",
       "       [   7.        ,   39.        ,    0.1       ,    2.        ],\n",
       "       [   0.        ,   17.        ,    0.1       ,    2.        ],\n",
       "       [   9.        ,   34.        ,    0.1       ,    2.        ],\n",
       "       [ 128.        ,  132.        ,    0.1       ,    2.        ],\n",
       "       [  10.        ,   48.        ,    0.1       ,    2.        ],\n",
       "       [   4.        ,   37.        ,    0.14142136,    2.        ],\n",
       "       [  19.        ,   21.        ,    0.14142136,    2.        ],\n",
       "       [  29.        ,   30.        ,    0.14142136,    2.        ],\n",
       "       [  57.        ,   93.        ,    0.14142136,    2.        ],\n",
       "       [  80.        ,   81.        ,    0.14142136,    2.        ],\n",
       "       [ 116.        ,  137.        ,    0.14142136,    2.        ],\n",
       "       [   8.        ,   38.        ,    0.14142136,    2.        ],\n",
       "       [  27.        ,   28.        ,    0.14142136,    2.        ],\n",
       "       [   3.        ,   47.        ,    0.14142136,    2.        ],\n",
       "       [  82.        ,   92.        ,    0.14142136,    2.        ],\n",
       "       [  95.        ,   96.        ,    0.14142136,    2.        ],\n",
       "       [ 127.        ,  138.        ,    0.14142136,    2.        ],\n",
       "       [   1.        ,   45.        ,    0.14142136,    2.        ],\n",
       "       [  63.        ,   91.        ,    0.14142136,    2.        ],\n",
       "       [  65.        ,   75.        ,    0.14142136,    2.        ],\n",
       "       [  40.        ,  152.        ,    0.17320508,    3.        ],\n",
       "       [ 123.        ,  126.        ,    0.17320508,    2.        ],\n",
       "       [  49.        ,  151.        ,    0.17320508,    3.        ],\n",
       "       [ 112.        ,  139.        ,    0.17320508,    2.        ],\n",
       "       [  94.        ,   99.        ,    0.17320508,    2.        ],\n",
       "       [  12.        ,  168.        ,    0.18257419,    3.        ],\n",
       "       [  88.        ,  166.        ,    0.18257419,    3.        ],\n",
       "       [  66.        ,   84.        ,    0.2       ,    2.        ],\n",
       "       [  23.        ,   26.        ,    0.2       ,    2.        ]])"
      ]
     },
     "execution_count": 19,
     "metadata": {},
     "output_type": "execute_result"
    }
   ],
   "source": [
    "Z[:30]"
   ]
  },
  {
   "cell_type": "markdown",
   "metadata": {},
   "source": [
    "If you can observe the sample_count column, until iteration 22 the algorithm only directly merged original samples. Also, there has been a monotonic increase in the distance.\n",
    "\n",
    "In iteration 22 the algorithm merged cluster indices 40 with 152. Do you remember that teher are only 150 samples in the dataset meaning the original sample indices are 0 to 149 for 150 samples. All indices idx >= len(num_data) actually refer to the cluster formed in Z[idx - len(num_data)].\n",
    "\n",
    "Simply put, while idx 149 corresponds to num_data[149], idx 150 corresponds to the cluster formed in Z[0], idx 151 to Z[1], 152 to Z[2] and so on...\n",
    "\n",
    "Hence, the merge iteration 22 merged sample 40 to samples 0 and 17 that were previously merged in iteration 2 (152 - 2).\n",
    "\n",
    "Let's check out the points coordinates to see if this makes sense:"
   ]
  },
  {
   "cell_type": "code",
   "execution_count": 20,
   "metadata": {
    "collapsed": false
   },
   "outputs": [
    {
     "data": {
      "text/html": [
       "<div>\n",
       "<table border=\"1\" class=\"dataframe\">\n",
       "  <thead>\n",
       "    <tr style=\"text-align: right;\">\n",
       "      <th></th>\n",
       "      <th>Sepal.Length</th>\n",
       "      <th>Sepal.Width</th>\n",
       "      <th>Petal.Length</th>\n",
       "      <th>Petal.Width</th>\n",
       "    </tr>\n",
       "  </thead>\n",
       "  <tbody>\n",
       "    <tr>\n",
       "      <th>0</th>\n",
       "      <td>5.1</td>\n",
       "      <td>3.5</td>\n",
       "      <td>1.4</td>\n",
       "      <td>0.2</td>\n",
       "    </tr>\n",
       "    <tr>\n",
       "      <th>17</th>\n",
       "      <td>5.1</td>\n",
       "      <td>3.5</td>\n",
       "      <td>1.4</td>\n",
       "      <td>0.3</td>\n",
       "    </tr>\n",
       "    <tr>\n",
       "      <th>40</th>\n",
       "      <td>5.0</td>\n",
       "      <td>3.5</td>\n",
       "      <td>1.3</td>\n",
       "      <td>0.3</td>\n",
       "    </tr>\n",
       "  </tbody>\n",
       "</table>\n",
       "</div>"
      ],
      "text/plain": [
       "    Sepal.Length  Sepal.Width  Petal.Length  Petal.Width\n",
       "0            5.1          3.5           1.4          0.2\n",
       "17           5.1          3.5           1.4          0.3\n",
       "40           5.0          3.5           1.3          0.3"
      ]
     },
     "execution_count": 20,
     "metadata": {},
     "output_type": "execute_result"
    }
   ],
   "source": [
    "num_data.loc[[0, 17, 40], :]"
   ]
  },
  {
   "cell_type": "markdown",
   "metadata": {},
   "source": [
    "The points seem pretty close. Plot the points highlighted to verify them."
   ]
  },
  {
   "cell_type": "code",
   "execution_count": 21,
   "metadata": {
    "collapsed": false
   },
   "outputs": [
    {
     "data": {
      "image/png": "[encoded data removed]",
      "text/plain": [
       "<matplotlib.figure.Figure at 0x7f77a2e6db38>"
      ]
     },
     "metadata": {},
     "output_type": "display_data"
    }
   ],
   "source": [
    "# PLotting Sepal.Length vs Petal.Width\n",
    "idxs = [0, 17, 40]\n",
    "plt.figure(figsize=(10, 8))\n",
    "plt.scatter(num_data.iloc[:,0], num_data.iloc[:,3])  # plot all points\n",
    "\n",
    "# Highlight the points of interest in Red color\n",
    "plt.scatter(num_data.iloc[idxs,0], num_data.iloc[idxs,3], c='r')  # plot interesting points in red again\n",
    "plt.show()"
   ]
  },
  {
   "cell_type": "markdown",
   "metadata": {},
   "source": [
    "All 3 red dots are pretty close to each other as predicted. Lets check the results of 28th iteration. The algorithm merged indices 88 to 82 and 92. "
   ]
  },
  {
   "cell_type": "code",
   "execution_count": 22,
   "metadata": {
    "collapsed": false
   },
   "outputs": [
    {
     "data": {
      "text/html": [
       "<div>\n",
       "<table border=\"1\" class=\"dataframe\">\n",
       "  <thead>\n",
       "    <tr style=\"text-align: right;\">\n",
       "      <th></th>\n",
       "      <th>Sepal.Length</th>\n",
       "      <th>Sepal.Width</th>\n",
       "      <th>Petal.Length</th>\n",
       "      <th>Petal.Width</th>\n",
       "    </tr>\n",
       "  </thead>\n",
       "  <tbody>\n",
       "    <tr>\n",
       "      <th>88</th>\n",
       "      <td>5.6</td>\n",
       "      <td>3.0</td>\n",
       "      <td>4.1</td>\n",
       "      <td>1.3</td>\n",
       "    </tr>\n",
       "    <tr>\n",
       "      <th>82</th>\n",
       "      <td>5.8</td>\n",
       "      <td>2.7</td>\n",
       "      <td>3.9</td>\n",
       "      <td>1.2</td>\n",
       "    </tr>\n",
       "    <tr>\n",
       "      <th>92</th>\n",
       "      <td>5.8</td>\n",
       "      <td>2.6</td>\n",
       "      <td>4.0</td>\n",
       "      <td>1.2</td>\n",
       "    </tr>\n",
       "  </tbody>\n",
       "</table>\n",
       "</div>"
      ],
      "text/plain": [
       "    Sepal.Length  Sepal.Width  Petal.Length  Petal.Width\n",
       "88           5.6          3.0           4.1          1.3\n",
       "82           5.8          2.7           3.9          1.2\n",
       "92           5.8          2.6           4.0          1.2"
      ]
     },
     "execution_count": 22,
     "metadata": {},
     "output_type": "execute_result"
    }
   ],
   "source": [
    "num_data.loc[[88, 82, 92], :]"
   ]
  },
  {
   "cell_type": "code",
   "execution_count": 23,
   "metadata": {
    "collapsed": false
   },
   "outputs": [
    {
     "data": {
      "image/png": "[encoded data removed]",
      "text/plain": [
       "<matplotlib.figure.Figure at 0x7f77a2cb06d8>"
      ]
     },
     "metadata": {},
     "output_type": "display_data"
    }
   ],
   "source": [
    "# PLotting Sepal.Length vs Petal.Width\n",
    "idxs = [88, 82, 92]\n",
    "plt.figure(figsize=(10, 8))\n",
    "plt.scatter(num_data.iloc[:,0], num_data.iloc[:,1])  # plot all points\n",
    "\n",
    "# Highlight the points of interest in Red color\n",
    "plt.scatter(num_data.iloc[idxs,0], num_data.iloc[idxs,1], c='r')  # plot interesting points in red again\n",
    "plt.show()"
   ]
  },
  {
   "cell_type": "markdown",
   "metadata": {},
   "source": [
    "### Plot the Dendogram\n",
    "\n",
    "A dendrogram is a visualization technique that is in the form of a tree showing the order and distances of merges during the hierarchical clustering."
   ]
  },
  {
   "cell_type": "code",
   "execution_count": 24,
   "metadata": {
    "collapsed": false
   },
   "outputs": [],
   "source": [
    "y=hca.linkage(num_data,metric=\"euclidean\",method=\"ward\")"
   ]
  },
  {
   "cell_type": "markdown",
   "metadata": {},
   "source": [
    "**Reference: ** \n",
    "- [scipy.cluster.hierarchy.linkage(y, method='single', metric='euclidean')](https://docs.scipy.org/doc/scipy-0.14.0/reference/generated/scipy.cluster.hierarchy.linkage.html#scipy.cluster.hierarchy.linkage). \n",
    " \n",
    "linkage() performs hierarchical/agglomerative clustering on the condensed distance matrix y. y must be a ${n \\choose 2}$ sized vector where n is the number of original observations paired in the distance matrix. "
   ]
  },
  {
   "cell_type": "markdown",
   "metadata": {},
   "source": [
    "In below code block, truncate_mode='lastp' option tells python to show just the last p non-singleton clusters formed in the linkage. All other non-singleton clusters are contracted into leaf nodes. \n",
    "\n",
    "The number p indicates number of clusters to be shown. Its gives a truncated dendrogram, which only shows the last p=25 out of the 149 merges."
   ]
  },
  {
   "cell_type": "code",
   "execution_count": 25,
   "metadata": {
    "collapsed": false
   },
   "outputs": [
    {
     "data": {
      "text/plain": [
       "<matplotlib.text.Text at 0x7f77a2d34470>"
      ]
     },
     "execution_count": 25,
     "metadata": {},
     "output_type": "execute_result"
    },
    {
     "data": {
      "image/png": "[encoded data removed]",
      "text/plain": [
       "<matplotlib.figure.Figure at 0x7f77a2ca3a90>"
      ]
     },
     "metadata": {},
     "output_type": "display_data"
    }
   ],
   "source": [
    "plt=hca.dendrogram(y,truncate_mode=\"lastp\",p=25)\n",
    "xticks(rotation=90)\n",
    "ylabel(\"Distance\")\n",
    "figtext(0.5,0.95,\"Iris flower data set\",ha=\"center\",fontsize=12)\n",
    "figtext(0.5,0.90,\"Dendrogram (center, euclidean, ward)\",ha=\"center\",fontsize=10)"
   ]
  },
  {
   "cell_type": "markdown",
   "metadata": {},
   "source": [
    "**Reference: **\n",
    "\n",
    "- [scipy.cluster.hierarchy.dendrogram(data,....)](https://docs.scipy.org/doc/scipy-0.14.0/reference/generated/scipy.cluster.hierarchy.dendrogram.html#scipy.cluster.hierarchy.dendrogram)\n",
    "\n",
    "Plots the hierarchical clustering as a dendrogram. The dendrogram illustrates how each cluster is composed by drawing a U-shaped link between a non-singleton cluster and its children. The height of the top of the U-link is the distance between its children clusters. It is also the cophenetic distance between original observations in the two children clusters. It is expected that the distances in data[:,2] be monotonic, otherwise crossings appear in the dendrogram."
   ]
  },
  {
   "cell_type": "markdown",
   "metadata": {},
   "source": [
    "- The x axis labels, if nothing is specified then they are the indices of samples in num_data.\n",
    "- The labels on y axis represent the distances (of the 'ward' method in this case)."
   ]
  },
  {
   "cell_type": "markdown",
   "metadata": {},
   "source": [
    "Interpreting the dendogram:\n",
    "\n",
    "Starting from each label at the bottom, you can see a vertical line up to a horizontal line. The height of that horizontal line tells you about the distance at which this label was merged into another label or cluster. \n",
    "\n",
    "Summarizing:\n",
    "\n",
    "Horizontal lines are cluster merges. Vertical lines tell you which clusters/labels were part of merge forming that new cluster. Heights of the horizontal lines tell you about the distance that needed to be \"bridged\" to form the new cluster. You can also see that from distances > 12 up there's a huge jump of the distance to the final merge at a distance of approx 33. Let's have a look at the distances of the last 4 merges:"
   ]
  },
  {
   "cell_type": "code",
   "execution_count": 26,
   "metadata": {
    "collapsed": false
   },
   "outputs": [
    {
     "data": {
      "text/plain": [
       "array([  4.84770851,   6.39940682,  12.30039605,  32.447607  ])"
      ]
     },
     "execution_count": 26,
     "metadata": {},
     "output_type": "execute_result"
    }
   ],
   "source": [
    "Z[-4:,2]"
   ]
  },
  {
   "cell_type": "markdown",
   "metadata": {},
   "source": [
    "Such merges in the dendrogram are interesting. They indicate that something has been merged that shouldn't be merged may be. Simply put, maybe the things that were merged really don't belong to the same cluster suggesting that maybe there are just 2 clusters different clusters.\n",
    "\n",
    "The colors of the clusters come from color_threshold argument of dendrogram(). Because it is not specified here, it automatically picked a distance cut-off value of 70 % of the final merge and then colored the clusters."
   ]
  },
  {
   "cell_type": "markdown",
   "metadata": {},
   "source": [
    "### Selecting a Distance Cut-Off or Determining the Number of Clusters\n",
    "\n",
    "As explained above already, a huge jump in distance is typically what we're interested in when arguing for a certain number of clusters. When you have to pick the number of clusters manually, that is probably the best method as it allows to gain some insights into the data and to perform some sanity checks on the edge cases. In this case the distance cut off could be 10, as the jump is pretty obvious. \n",
    "\n",
    "When automatically picking the number of clusters there are a couple of common methods that can be used. \n",
    "\n",
    "#### Inconsistency Method\n",
    "\"inconsistency\" method is one of the defaults for the fcluster() function in scipy.\n",
    "\n",
    "The question driving the inconsistency method is \"what makes a distance jump a jump?\". It answers this by comparing each cluster merge's height h to the average avg and normalizing it by the standard deviation. Link statistics are computed over link heights for links d levels below the cluster i.\n",
    "\n",
    "$$inconsistency=\\frac{h−avg}{std}$$\n",
    "The following shows a matrix of the avg, std, count, inconsistency for each of the last 10 merges of our hierarchical clustering with depth = 5"
   ]
  },
  {
   "cell_type": "code",
   "execution_count": 27,
   "metadata": {
    "collapsed": false
   },
   "outputs": [
    {
     "data": {
      "text/plain": [
       "array([[  0.59108975,   0.45392614,  17.        ,   2.91895623],\n",
       "       [  0.53055241,   0.41958884,  21.        ,   3.30847806],\n",
       "       [  0.55682942,   0.48059093,  20.        ,   3.11450149],\n",
       "       [  0.8374815 ,   0.69532383,  15.        ,   2.84249906],\n",
       "       [  0.79911507,   0.66538924,  24.        ,   3.11141575],\n",
       "       [  0.76914495,   0.74381406,  26.        ,   4.11246284],\n",
       "       [  0.89598496,   0.93038191,  26.        ,   4.24742088],\n",
       "       [  1.28888887,   1.28477111,  25.        ,   3.97776532],\n",
       "       [  1.85911499,   2.3737124 ,  30.        ,   4.39871361],\n",
       "       [  3.06437262,   6.029791  ,  30.        ,   4.87301042]])"
      ]
     },
     "execution_count": 27,
     "metadata": {},
     "output_type": "execute_result"
    }
   ],
   "source": [
    "from scipy.cluster.hierarchy import inconsistent\n",
    "\n",
    "depth = 5\n",
    "incons = inconsistent(Z, depth)\n",
    "incons[-10:]"
   ]
  },
  {
   "cell_type": "markdown",
   "metadata": {},
   "source": [
    "There is no paricular golden rule to pick the depth limit in the inconsistencies. See what happens if depth is set to 3 instead."
   ]
  },
  {
   "cell_type": "code",
   "execution_count": 28,
   "metadata": {
    "collapsed": false
   },
   "outputs": [
    {
     "data": {
      "text/plain": [
       "array([[  1.04415572,   0.47077171,   6.        ,   1.85211759],\n",
       "       [  0.93605888,   0.50753029,   7.        ,   1.93622727],\n",
       "       [  1.00119478,   0.59481487,   7.        ,   1.76935019],\n",
       "       [  1.3215276 ,   0.89717505,   6.        ,   1.66345602],\n",
       "       [  1.54618861,   0.78070631,   7.        ,   1.6949127 ],\n",
       "       [  1.60084704,   1.04636159,   7.        ,   2.12852383],\n",
       "       [  1.87864673,   1.37553667,   7.        ,   2.15847519],\n",
       "       [  2.63219605,   1.82414912,   7.        ,   2.06518794],\n",
       "       [  4.69102252,   3.74990448,   7.        ,   2.02921797],\n",
       "       [  9.01617053,  10.95274921,   7.        ,   2.13932009]])"
      ]
     },
     "execution_count": 28,
     "metadata": {},
     "output_type": "execute_result"
    }
   ],
   "source": [
    "depth = 3\n",
    "incons = inconsistent(Z, depth)\n",
    "incons[-10:]"
   ]
  },
  {
   "cell_type": "markdown",
   "metadata": {},
   "source": [
    "The inconsistency values heavily depend on the depth of the tree you calculate the averages over. \n",
    "\n",
    "#### Elbow Method\n",
    "\n",
    "It tries to find the clustering step where the acceleration of distance growth is the biggest."
   ]
  },
  {
   "cell_type": "code",
   "execution_count": 31,
   "metadata": {
    "collapsed": false
   },
   "outputs": [
    {
     "name": "stdout",
     "output_type": "stream",
     "text": [
      "[  1.91608028   1.91875287   2.05363058   2.81393883   2.86941764\n",
      "   3.82805262   4.84770851   6.39940682  12.30039605  32.447607  ]\n",
      "[  0.13220512   0.62543055  -0.70482945   0.90315617   0.06102091\n",
      "   0.53204242   4.34929092  14.24622171]\n",
      "[ 1  2  3  4  5  6  7  8  9 10]\n",
      "[1 2 3 4 5 6 7 8]\n",
      "[ 14.24622171   4.34929092   0.53204242   0.06102091   0.90315617\n",
      "  -0.70482945   0.62543055   0.13220512]\n"
     ]
    }
   ],
   "source": [
    "print(last)\n",
    "print(acceleration)\n",
    "print(idxs)\n",
    "print(idxs[:-2])\n",
    "print(acceleration_rev)"
   ]
  },
  {
   "cell_type": "code",
   "execution_count": 30,
   "metadata": {
    "collapsed": false
   },
   "outputs": [
    {
     "data": {
      "image/png": "[encoded data removed]",
      "text/plain": [
       "<matplotlib.figure.Figure at 0x7f77a2c35fd0>"
      ]
     },
     "metadata": {},
     "output_type": "display_data"
    },
    {
     "name": "stdout",
     "output_type": "stream",
     "text": [
      "clusters: 2\n"
     ]
    }
   ],
   "source": [
    "import matplotlib.pyplot as plt\n",
    "\n",
    "# Take last 10 merge distances into variable last\n",
    "last = Z[-10:, 2]\n",
    "\n",
    "# reverse the elemensts in variable last and assign them to last_rev. The index '-1' starts the indexing from the last.\n",
    "last_rev = last[::-1]\n",
    "\n",
    "# create an array with indexes 1,2,3...10 i;e start from 1 to until 11. It will not include 11. \n",
    "idxs = np.arange(1, len(last) + 1)\n",
    "\n",
    "# Plot the merge distances. last_rev has merge with highest value at index 0. \n",
    "plt.plot(idxs, last_rev)\n",
    "\n",
    "\n",
    "# Calculate the 2nd order discrete difference along given axis.\n",
    "acceleration = np.diff(last, 2)  # 2nd derivative of the distances\n",
    "\n",
    "# reverse the elemensts in variable acceleration and assign them to acceleration_rev. \n",
    "acceleration_rev = acceleration[::-1]\n",
    "\n",
    "# Plot the 2nd order distances. \n",
    "plt.plot(idxs[:-2] + 1, acceleration_rev)\n",
    "plt.show()\n",
    "\n",
    "# Find the index of largest value in acceleration_rev to decide the number of clusters. \n",
    "k = acceleration_rev.argmax() + 2  # if idx 0 is the max of this we want 2 clusters\n",
    "print(\"clusters:\", k)"
   ]
  },
  {
   "cell_type": "markdown",
   "metadata": {},
   "source": [
    "### Retrieve the Clusters\n",
    "\n",
    "For retrieving the clusters, for different ways of determining k the fcluster function is used."
   ]
  },
  {
   "cell_type": "markdown",
   "metadata": {},
   "source": [
    "### Knowing max_d:\n",
    "\n",
    "Onvce the max distance is determined with help of a dendrogram, then cluster id for each of the samples can be extracted using below peice of code."
   ]
  },
  {
   "cell_type": "code",
   "execution_count": 32,
   "metadata": {
    "collapsed": false
   },
   "outputs": [
    {
     "data": {
      "text/plain": [
       "array([1, 1, 1, 1, 1, 1, 1, 1, 1, 1, 1, 1, 1, 1, 1, 1, 1, 1, 1, 1, 1, 1, 1,\n",
       "       1, 1, 1, 1, 1, 1, 1, 1, 1, 1, 1, 1, 1, 1, 1, 1, 1, 1, 1, 1, 1, 1, 1,\n",
       "       1, 1, 1, 1, 1, 1, 1, 1, 1, 1, 1, 1, 1, 1, 1, 1, 1, 1, 1, 1, 1, 1, 1,\n",
       "       1, 1, 1, 1, 1, 1, 1, 1, 1, 1, 1, 1, 1, 1, 1, 1, 1, 1, 1, 1, 1, 1, 1,\n",
       "       1, 1, 1, 1, 1, 1, 1, 1, 1, 1, 1, 1, 1, 1, 1, 1, 1, 1, 1, 1, 1, 1, 1,\n",
       "       1, 1, 1, 1, 1, 1, 1, 1, 1, 1, 1, 1, 1, 1, 1, 1, 1, 1, 1, 1, 1, 1, 1,\n",
       "       1, 1, 1, 1, 1, 1, 1, 1, 1, 1, 1, 1], dtype=int32)"
      ]
     },
     "execution_count": 32,
     "metadata": {},
     "output_type": "execute_result"
    }
   ],
   "source": [
    "from scipy.cluster.hierarchy import fcluster\n",
    "max_d = 10\n",
    "clusters = fcluster(Z, max_d, criterion='distance')\n",
    "clusters"
   ]
  },
  {
   "cell_type": "markdown",
   "metadata": {},
   "source": [
    "#### Knowing k:"
   ]
  },
  {
   "cell_type": "code",
   "execution_count": 33,
   "metadata": {
    "collapsed": false
   },
   "outputs": [
    {
     "data": {
      "text/plain": [
       "array([1, 1, 1, 1, 1, 1, 1, 1, 1, 1, 1, 1, 1, 1, 1, 1, 1, 1, 1, 1, 1, 1, 1,\n",
       "       1, 1, 1, 1, 1, 1, 1, 1, 1, 1, 1, 1, 1, 1, 1, 1, 1, 1, 1, 1, 1, 1, 1,\n",
       "       1, 1, 1, 1, 2, 2, 2, 2, 2, 2, 2, 2, 2, 2, 2, 2, 2, 2, 2, 2, 2, 2, 2,\n",
       "       2, 2, 2, 2, 2, 2, 2, 2, 2, 2, 2, 2, 2, 2, 2, 2, 2, 2, 2, 2, 2, 2, 2,\n",
       "       2, 2, 2, 2, 2, 2, 2, 2, 2, 2, 2, 2, 2, 2, 2, 2, 2, 2, 2, 2, 2, 2, 2,\n",
       "       2, 2, 2, 2, 2, 2, 2, 2, 2, 2, 2, 2, 2, 2, 2, 2, 2, 2, 2, 2, 2, 2, 2,\n",
       "       2, 2, 2, 2, 2, 2, 2, 2, 2, 2, 2, 2], dtype=int32)"
      ]
     },
     "execution_count": 33,
     "metadata": {},
     "output_type": "execute_result"
    }
   ],
   "source": [
    "k=2\n",
    "fcluster(Z, k, criterion='maxclust')"
   ]
  },
  {
   "cell_type": "markdown",
   "metadata": {},
   "source": [
    "#### Using the Inconsistency Method (default):\n",
    "\n",
    "Inconsistency Method is the default method in fcluster function. "
   ]
  },
  {
   "cell_type": "code",
   "execution_count": 34,
   "metadata": {
    "collapsed": false
   },
   "outputs": [
    {
     "data": {
      "text/plain": [
       "array([1, 1, 1, 1, 1, 1, 1, 1, 1, 1, 1, 1, 1, 1, 1, 1, 1, 1, 1, 1, 1, 1, 1,\n",
       "       1, 1, 1, 1, 1, 1, 1, 1, 1, 1, 1, 1, 1, 1, 1, 1, 1, 1, 1, 1, 1, 1, 1,\n",
       "       1, 1, 1, 1, 2, 2, 2, 2, 2, 2, 2, 2, 2, 2, 2, 2, 2, 2, 2, 2, 2, 2, 2,\n",
       "       2, 2, 2, 2, 2, 2, 2, 2, 2, 2, 2, 2, 2, 2, 2, 2, 2, 2, 2, 2, 2, 2, 2,\n",
       "       2, 2, 2, 2, 2, 2, 2, 2, 2, 2, 2, 2, 2, 2, 2, 2, 2, 2, 2, 2, 2, 2, 2,\n",
       "       2, 2, 2, 2, 2, 2, 2, 2, 2, 2, 2, 2, 2, 2, 2, 2, 2, 2, 2, 2, 2, 2, 2,\n",
       "       2, 2, 2, 2, 2, 2, 2, 2, 2, 2, 2, 2], dtype=int32)"
      ]
     },
     "execution_count": 34,
     "metadata": {},
     "output_type": "execute_result"
    }
   ],
   "source": [
    "from scipy.cluster.hierarchy import fcluster\n",
    "clusters=fcluster(Z, 8, depth=10)\n",
    "clusters"
   ]
  },
  {
   "cell_type": "markdown",
   "metadata": {},
   "source": [
    "#### Visualizing Your Clusters"
   ]
  },
  {
   "cell_type": "code",
   "execution_count": 35,
   "metadata": {
    "collapsed": false
   },
   "outputs": [
    {
     "data": {
      "image/png": "[encoded data removed]",
      "text/plain": [
       "<matplotlib.figure.Figure at 0x7f77a2be7f60>"
      ]
     },
     "metadata": {},
     "output_type": "display_data"
    }
   ],
   "source": [
    "plt.figure(figsize=(10, 8))\n",
    "plt.scatter(num_data.iloc[:,0], num_data.iloc[:,1], c=clusters, cmap='prism')  # plot points with cluster dependent colors\n",
    "plt.show()"
   ]
  },
  {
   "cell_type": "code",
   "execution_count": null,
   "metadata": {
    "collapsed": true
   },
   "outputs": [],
   "source": []
  }
 ],
 "metadata": {
  "kernelspec": {
   "display_name": "Python 3",
   "language": "python",
   "name": "python3"
  },
  "language_info": {
   "codemirror_mode": {
    "name": "ipython",
    "version": 3
   },
   "file_extension": ".py",
   "mimetype": "text/x-python",
   "name": "python",
   "nbconvert_exporter": "python",
   "pygments_lexer": "ipython3",
   "version": "3.4.5"
  }
 },
 "nbformat": 4,
 "nbformat_minor": 2
}
